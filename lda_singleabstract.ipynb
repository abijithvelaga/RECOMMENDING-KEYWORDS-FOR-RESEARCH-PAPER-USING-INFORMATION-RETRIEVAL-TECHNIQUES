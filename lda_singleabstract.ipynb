{
  "cells": [
    {
      "metadata": {
        "trusted": true
      },
      "cell_type": "code",
      "source": "!pip install -U spacy",
      "execution_count": null,
      "outputs": [
        {
          "output_type": "stream",
          "text": "Collecting spacy\n  Using cached https://files.pythonhosted.org/packages/44/e2/8e0feebd995ea9c0969d0504cfe1664a1899bf57d820080116354bbda096/spacy-2.1.8-cp35-cp35m-manylinux1_x86_64.whl\nRequirement already satisfied, skipping upgrade: wasabi<1.1.0,>=0.2.0 in /home/nbuser/anaconda3_420/lib/python3.5/site-packages (from spacy) (0.2.2)\nRequirement already satisfied, skipping upgrade: thinc<7.1.0,>=7.0.8 in /home/nbuser/anaconda3_420/lib/python3.5/site-packages (from spacy) (7.0.8)\nRequirement already satisfied, skipping upgrade: cymem<2.1.0,>=2.0.2 in /home/nbuser/anaconda3_420/lib/python3.5/site-packages (from spacy) (2.0.2)\nRequirement already satisfied, skipping upgrade: murmurhash<1.1.0,>=0.28.0 in /home/nbuser/anaconda3_420/lib/python3.5/site-packages (from spacy) (1.0.2)\nRequirement already satisfied, skipping upgrade: numpy>=1.15.0 in /home/nbuser/anaconda3_420/lib/python3.5/site-packages (from spacy) (1.17.0)\nRequirement already satisfied, skipping upgrade: requests<3.0.0,>=2.13.0 in /home/nbuser/anaconda3_420/lib/python3.5/site-packages (from spacy) (2.14.2)\nRequirement already satisfied, skipping upgrade: blis<0.3.0,>=0.2.2 in /home/nbuser/anaconda3_420/lib/python3.5/site-packages (from spacy) (0.2.4)\nRequirement already satisfied, skipping upgrade: plac<1.0.0,>=0.9.6 in /home/nbuser/anaconda3_420/lib/python3.5/site-packages (from spacy) (0.9.6)\nRequirement already satisfied, skipping upgrade: srsly<1.1.0,>=0.0.6 in /home/nbuser/anaconda3_420/lib/python3.5/site-packages (from spacy) (0.1.0)\nRequirement already satisfied, skipping upgrade: preshed<2.1.0,>=2.0.1 in /home/nbuser/anaconda3_420/lib/python3.5/site-packages (from spacy) (2.0.1)\nRequirement already satisfied, skipping upgrade: tqdm<5.0.0,>=4.10.0 in /home/nbuser/anaconda3_420/lib/python3.5/site-packages (from thinc<7.1.0,>=7.0.8->spacy) (4.34.0)\nInstalling collected packages: spacy\n",
          "name": "stdout"
        }
      ]
    },
    {
      "metadata": {
        "trusted": true,
        "scrolled": true
      },
      "cell_type": "code",
      "source": "!pip install -U gensim",
      "execution_count": 2,
      "outputs": [
        {
          "output_type": "stream",
          "text": "Collecting gensim\n\u001b[?25l  Downloading https://files.pythonhosted.org/packages/ef/65/c90886ac34d4b12d3ae0bcc7aece1af57e1f30e7138aabbb3e3c027e705a/gensim-3.8.0-cp35-cp35m-manylinux1_x86_64.whl (24.2MB)\n\u001b[K     |████████████████████████████████| 24.2MB 2.0MB/s eta 0:00:01    |▏                               | 163kB 972kB/s eta 0:00:25     |▋                               | 430kB 972kB/s eta 0:00:25     |██                              | 1.5MB 972kB/s eta 0:00:24     |██▋                             | 2.0MB 972kB/s eta 0:00:2322     |█████▌                          | 4.1MB 23.2MB/s eta 0:00:01                  | 4.4MB 23.2MB/s eta 0:00:01     |██████▊                         | 5.1MB 23.2MB/s eta 0:00:01     |███████▍                        | 5.6MB 23.2MB/s eta 0:00:01                   | 8.9MB 2.4MB/s eta 0:00:07��███████▎                   | 9.3MB 2.4MB/s eta 0:00:07     |████████████████                | 12.0MB 5.0MB/s eta 0:00:03��████████████████            | 15.1MB 5.0MB/s eta 0:00:02 eta 0:00:02��███▌          | 16.3MB 2.4MB/s eta 0:00:04     |███████████████████████         | 17.5MB 2.4MB/s eta 0:00:03     |███████████████████████▍        | 17.7MB 2.4MB/s eta 0:00:03:00:03     |█████████████████████████▌      | 19.3MB 3.3MB/s eta 0:00:02     |█████████████████████████▊      | 19.5MB 3.3MB/s eta 0:00:02     |██████████████████████████▌     | 20.0MB 3.3MB/s eta 0:00:02     |███████████████████████████▊    | 21.0MB 3.3MB/s eta 0:00:01     |████████████████████████████▍   | 21.5MB 3.3MB/s eta 0:00:01     |████████████████████████████▉   | 21.8MB 3.3MB/s eta 0:00:01     |███████████████████████████████▍| 23.7MB 2.0MB/s eta 0:00:01     |███████████████████████████████▊| 24.0MB 2.0MB/s eta 0:00:01     |████████████████████████████████| 24.1MB 2.0MB/s eta 0:00:01\n\u001b[?25hRequirement already satisfied, skipping upgrade: numpy>=1.11.3 in /home/nbuser/anaconda3_420/lib/python3.5/site-packages (from gensim) (1.17.0)\nCollecting smart-open>=1.7.0 (from gensim)\n\u001b[?25l  Downloading https://files.pythonhosted.org/packages/37/c0/25d19badc495428dec6a4bf7782de617ee0246a9211af75b302a2681dea7/smart_open-1.8.4.tar.gz (63kB)\n\u001b[K     |████████████████████████████████| 71kB 1.7MB/s eta 0:00:011     |████████████████████▋           | 40kB 3.6MB/s eta 0:00:01\n\u001b[?25hRequirement already satisfied, skipping upgrade: scipy>=0.18.1 in /home/nbuser/anaconda3_420/lib/python3.5/site-packages (from gensim) (1.1.0)\nRequirement already satisfied, skipping upgrade: six>=1.5.0 in /home/nbuser/anaconda3_420/lib/python3.5/site-packages (from gensim) (1.11.0)\nRequirement already satisfied, skipping upgrade: boto>=2.32 in /home/nbuser/anaconda3_420/lib/python3.5/site-packages (from smart-open>=1.7.0->gensim) (2.42.0)\nRequirement already satisfied, skipping upgrade: requests in /home/nbuser/anaconda3_420/lib/python3.5/site-packages (from smart-open>=1.7.0->gensim) (2.14.2)\nRequirement already satisfied, skipping upgrade: boto3 in /home/nbuser/anaconda3_420/lib/python3.5/site-packages (from smart-open>=1.7.0->gensim) (1.4.8)\nRequirement already satisfied, skipping upgrade: botocore<1.9.0,>=1.8.0 in /home/nbuser/anaconda3_420/lib/python3.5/site-packages (from boto3->smart-open>=1.7.0->gensim) (1.8.50)\nRequirement already satisfied, skipping upgrade: s3transfer<0.2.0,>=0.1.10 in /home/nbuser/anaconda3_420/lib/python3.5/site-packages (from boto3->smart-open>=1.7.0->gensim) (0.1.13)\nRequirement already satisfied, skipping upgrade: jmespath<1.0.0,>=0.7.1 in /home/nbuser/anaconda3_420/lib/python3.5/site-packages (from boto3->smart-open>=1.7.0->gensim) (0.9.4)\nRequirement already satisfied, skipping upgrade: python-dateutil<3.0.0,>=2.1 in /home/nbuser/anaconda3_420/lib/python3.5/site-packages (from botocore<1.9.0,>=1.8.0->boto3->smart-open>=1.7.0->gensim) (2.8.0)\nRequirement already satisfied, skipping upgrade: docutils>=0.10 in /home/nbuser/anaconda3_420/lib/python3.5/site-packages (from botocore<1.9.0,>=1.8.0->boto3->smart-open>=1.7.0->gensim) (0.12)\nBuilding wheels for collected packages: smart-open\n  Building wheel for smart-open (setup.py) ... \u001b[?25ldone\n\u001b[?25h  Created wheel for smart-open: filename=smart_open-1.8.4-cp35-none-any.whl size=73429 sha256=81dc561fa4f8df48b799c8b49f68dc5214e8521762c64848fe0d5a5a613132fd\n  Stored in directory: /home/nbuser/.cache/pip/wheels/5f/ea/fb/5b1a947b369724063b2617011f1540c44eb00e28c3d2ca8692\nSuccessfully built smart-open\nInstalling collected packages: smart-open, gensim\nSuccessfully installed gensim-3.8.0 smart-open-1.8.4\n",
          "name": "stdout"
        }
      ]
    },
    {
      "metadata": {
        "trusted": true
      },
      "cell_type": "code",
      "source": "!pip install -U pyLDAvis",
      "execution_count": 3,
      "outputs": [
        {
          "output_type": "stream",
          "text": "Collecting pyLDAvis\n\u001b[?25l  Downloading https://files.pythonhosted.org/packages/a5/3a/af82e070a8a96e13217c8f362f9a73e82d61ac8fff3a2561946a97f96266/pyLDAvis-2.1.2.tar.gz (1.6MB)\n\u001b[K     |████████████████████████████████| 1.6MB 1.7MB/s eta 0:00:01     |██████████████████████▊         | 1.1MB 1.7MB/s eta 0:00:01     |███████████████████████████▏    | 1.4MB 1.7MB/s eta 0:00:01\n\u001b[?25hRequirement already satisfied, skipping upgrade: wheel>=0.23.0 in /home/nbuser/anaconda3_420/lib/python3.5/site-packages (from pyLDAvis) (0.29.0)\nRequirement already satisfied, skipping upgrade: numpy>=1.9.2 in /home/nbuser/anaconda3_420/lib/python3.5/site-packages (from pyLDAvis) (1.17.0)\nRequirement already satisfied, skipping upgrade: scipy>=0.18.0 in /home/nbuser/anaconda3_420/lib/python3.5/site-packages (from pyLDAvis) (1.1.0)\nRequirement already satisfied, skipping upgrade: pandas>=0.17.0 in /home/nbuser/anaconda3_420/lib/python3.5/site-packages (from pyLDAvis) (0.19.2)\nCollecting joblib>=0.8.4 (from pyLDAvis)\n\u001b[?25l  Downloading https://files.pythonhosted.org/packages/cd/c1/50a758e8247561e58cb87305b1e90b171b8c767b15b12a1734001f41d356/joblib-0.13.2-py2.py3-none-any.whl (278kB)\n\u001b[K     |████████████████████████████████| 286kB 2.7MB/s eta 0:00:01    |███████████▊                    | 102kB 2.7MB/s eta 0:00:01\n\u001b[?25hRequirement already satisfied, skipping upgrade: jinja2>=2.7.2 in /home/nbuser/anaconda3_420/lib/python3.5/site-packages (from pyLDAvis) (2.8)\nRequirement already satisfied, skipping upgrade: numexpr in /home/nbuser/anaconda3_420/lib/python3.5/site-packages (from pyLDAvis) (2.6.2)\nRequirement already satisfied, skipping upgrade: pytest in /home/nbuser/anaconda3_420/lib/python3.5/site-packages (from pyLDAvis) (2.9.2)\nRequirement already satisfied, skipping upgrade: future in /home/nbuser/anaconda3_420/lib/python3.5/site-packages (from pyLDAvis) (0.17.1)\nCollecting funcy (from pyLDAvis)\n  Downloading https://files.pythonhosted.org/packages/eb/3a/fc8323f913e8a9c6f33f7203547f8a2171223da5ed965f2541dafb10aa09/funcy-1.13-py2.py3-none-any.whl\nRequirement already satisfied, skipping upgrade: python-dateutil>=2 in /home/nbuser/anaconda3_420/lib/python3.5/site-packages (from pandas>=0.17.0->pyLDAvis) (2.8.0)\nRequirement already satisfied, skipping upgrade: pytz>=2011k in /home/nbuser/anaconda3_420/lib/python3.5/site-packages (from pandas>=0.17.0->pyLDAvis) (2016.6.1)\nRequirement already satisfied, skipping upgrade: MarkupSafe in /home/nbuser/anaconda3_420/lib/python3.5/site-packages (from jinja2>=2.7.2->pyLDAvis) (0.23)\nRequirement already satisfied, skipping upgrade: py>=1.4.29 in /home/nbuser/anaconda3_420/lib/python3.5/site-packages (from pytest->pyLDAvis) (1.4.31)\nRequirement already satisfied, skipping upgrade: six>=1.5 in /home/nbuser/anaconda3_420/lib/python3.5/site-packages (from python-dateutil>=2->pandas>=0.17.0->pyLDAvis) (1.11.0)\nBuilding wheels for collected packages: pyLDAvis\n  Building wheel for pyLDAvis (setup.py) ... \u001b[?25ldone\n\u001b[?25h  Created wheel for pyLDAvis: filename=pyLDAvis-2.1.2-py2.py3-none-any.whl size=100200 sha256=7479cb75c39fe1d8aa79e63c9701eccc31bb6851c7aa993f7cd363f56e187794\n  Stored in directory: /home/nbuser/.cache/pip/wheels/98/71/24/513a99e58bb6b8465bae4d2d5e9dba8f0bef8179e3051ac414\nSuccessfully built pyLDAvis\nInstalling collected packages: joblib, funcy, pyLDAvis\nSuccessfully installed funcy-1.13 joblib-0.13.2 pyLDAvis-2.1.2\n",
          "name": "stdout"
        }
      ]
    },
    {
      "metadata": {
        "trusted": true
      },
      "cell_type": "code",
      "source": "",
      "execution_count": null,
      "outputs": []
    }
  ],
  "metadata": {
    "kernelspec": {
      "name": "python3",
      "display_name": "Python 3",
      "language": "python"
    },
    "language_info": {
      "mimetype": "text/x-python",
      "nbconvert_exporter": "python",
      "name": "python",
      "pygments_lexer": "ipython3",
      "version": "3.5.4",
      "file_extension": ".py",
      "codemirror_mode": {
        "version": 3,
        "name": "ipython"
      }
    }
  },
  "nbformat": 4,
  "nbformat_minor": 2
}